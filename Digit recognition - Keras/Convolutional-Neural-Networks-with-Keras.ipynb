{
 "cells": [
  {
   "cell_type": "markdown",
   "metadata": {},
   "source": [
    "<h1 align=center><font size = 5>Convolutional Neural Networks with Keras</font></h1>\n"
   ]
  },
  {
   "cell_type": "markdown",
   "metadata": {},
   "source": [
    "## Import Keras and Packages\n"
   ]
  },
  {
   "cell_type": "code",
   "execution_count": 1,
   "metadata": {
    "tags": []
   },
   "outputs": [],
   "source": [
    "import keras\n",
    "from keras.models import Sequential\n",
    "from keras.layers import Dense\n",
    "from keras.utils import to_categorical"
   ]
  },
  {
   "cell_type": "markdown",
   "metadata": {},
   "source": [
    "When working with convolutional neural networks in particular, we will need additional packages.\n"
   ]
  },
  {
   "cell_type": "code",
   "execution_count": 2,
   "metadata": {
    "tags": []
   },
   "outputs": [],
   "source": [
    "from keras.layers.convolutional import Conv2D # to add convolutional layers\n",
    "from keras.layers.convolutional import MaxPooling2D # to add pooling layers\n",
    "from keras.layers import Flatten # to flatten data for fully connected layers"
   ]
  },
  {
   "cell_type": "markdown",
   "metadata": {},
   "source": [
    "## Convolutional Layer with One set of convolutional and pooling layers\n"
   ]
  },
  {
   "cell_type": "code",
   "execution_count": 3,
   "metadata": {
    "tags": []
   },
   "outputs": [],
   "source": [
    "# import data\n",
    "from keras.datasets import mnist\n",
    "\n",
    "# load data\n",
    "(X_train, y_train), (X_test, y_test) = mnist.load_data()\n",
    "\n",
    "# reshape to be [samples][pixels][width][height]\n",
    "X_train = X_train.reshape(X_train.shape[0], 28, 28, 1).astype('float32')\n",
    "X_test = X_test.reshape(X_test.shape[0], 28, 28, 1).astype('float32')"
   ]
  },
  {
   "cell_type": "code",
   "execution_count": 4,
   "metadata": {
    "tags": []
   },
   "outputs": [],
   "source": [
    "X_train = X_train / 255 # normalize training data\n",
    "X_test = X_test / 255 # normalize test data"
   ]
  },
  {
   "cell_type": "code",
   "execution_count": 5,
   "metadata": {
    "tags": []
   },
   "outputs": [],
   "source": [
    "y_train = to_categorical(y_train)\n",
    "y_test = to_categorical(y_test)\n",
    "\n",
    "num_classes = y_test.shape[1] # number of categories"
   ]
  },
  {
   "cell_type": "code",
   "execution_count": 6,
   "metadata": {
    "tags": []
   },
   "outputs": [],
   "source": [
    "def convolutional_model():\n",
    "    \n",
    "    # create model\n",
    "    model = Sequential()\n",
    "    model.add(Conv2D(16, (5, 5), strides=(1, 1), activation='relu', input_shape=(28, 28, 1)))\n",
    "    model.add(MaxPooling2D(pool_size=(2, 2), strides=(2, 2)))\n",
    "    \n",
    "    model.add(Flatten())\n",
    "    model.add(Dense(100, activation='relu'))\n",
    "    model.add(Dense(num_classes, activation='softmax'))\n",
    "    \n",
    "    # compile model\n",
    "    model.compile(optimizer='adam', loss='categorical_crossentropy',  metrics=['accuracy'])\n",
    "    return model"
   ]
  },
  {
   "cell_type": "code",
   "execution_count": 7,
   "metadata": {
    "tags": []
   },
   "outputs": [
    {
     "name": "stdout",
     "output_type": "stream",
     "text": [
      "Epoch 1/10\n",
      "300/300 - 6s - loss: 0.2762 - accuracy: 0.9229 - val_loss: 0.1000 - val_accuracy: 0.9702 - 6s/epoch - 21ms/step\n",
      "Epoch 2/10\n",
      "300/300 - 7s - loss: 0.0864 - accuracy: 0.9751 - val_loss: 0.0746 - val_accuracy: 0.9781 - 7s/epoch - 24ms/step\n",
      "Epoch 3/10\n",
      "300/300 - 6s - loss: 0.0578 - accuracy: 0.9826 - val_loss: 0.0546 - val_accuracy: 0.9835 - 6s/epoch - 22ms/step\n",
      "Epoch 4/10\n",
      "300/300 - 6s - loss: 0.0454 - accuracy: 0.9863 - val_loss: 0.0443 - val_accuracy: 0.9858 - 6s/epoch - 21ms/step\n",
      "Epoch 5/10\n",
      "300/300 - 6s - loss: 0.0360 - accuracy: 0.9896 - val_loss: 0.0401 - val_accuracy: 0.9869 - 6s/epoch - 20ms/step\n",
      "Epoch 6/10\n",
      "300/300 - 6s - loss: 0.0302 - accuracy: 0.9909 - val_loss: 0.0379 - val_accuracy: 0.9878 - 6s/epoch - 20ms/step\n",
      "Epoch 7/10\n",
      "300/300 - 6s - loss: 0.0237 - accuracy: 0.9930 - val_loss: 0.0480 - val_accuracy: 0.9851 - 6s/epoch - 19ms/step\n",
      "Epoch 8/10\n",
      "300/300 - 6s - loss: 0.0208 - accuracy: 0.9935 - val_loss: 0.0389 - val_accuracy: 0.9876 - 6s/epoch - 20ms/step\n",
      "Epoch 9/10\n",
      "300/300 - 6s - loss: 0.0179 - accuracy: 0.9944 - val_loss: 0.0424 - val_accuracy: 0.9867 - 6s/epoch - 20ms/step\n",
      "Epoch 10/10\n",
      "300/300 - 6s - loss: 0.0141 - accuracy: 0.9957 - val_loss: 0.0422 - val_accuracy: 0.9875 - 6s/epoch - 20ms/step\n",
      "Accuracy: 0.987500011920929 \n",
      " Error: 1.2499988079071045\n"
     ]
    }
   ],
   "source": [
    "# build the model\n",
    "model = convolutional_model()\n",
    "\n",
    "# fit the model\n",
    "model.fit(X_train, y_train, validation_data=(X_test, y_test), epochs=10, batch_size=200, verbose=2)\n",
    "\n",
    "# evaluate the model\n",
    "scores = model.evaluate(X_test, y_test, verbose=0)\n",
    "print(\"Accuracy: {} \\n Error: {}\".format(scores[1], 100-scores[1]*100))"
   ]
  },
  {
   "cell_type": "markdown",
   "metadata": {},
   "source": [
    "<a id='item43'></a>\n"
   ]
  },
  {
   "cell_type": "markdown",
   "metadata": {},
   "source": [
    "## Convolutional Layer with two sets of convolutional and pooling layers\n"
   ]
  },
  {
   "cell_type": "code",
   "execution_count": 8,
   "metadata": {
    "tags": []
   },
   "outputs": [],
   "source": [
    "def convolutional_model():\n",
    "    \n",
    "    # create model\n",
    "    model = Sequential()\n",
    "    model.add(Conv2D(16, (5, 5), activation='relu', input_shape=(28, 28, 1)))\n",
    "    model.add(MaxPooling2D(pool_size=(2, 2), strides=(2, 2)))\n",
    "    \n",
    "    model.add(Conv2D(8, (2, 2), activation='relu'))\n",
    "    model.add(MaxPooling2D(pool_size=(2, 2), strides=(2, 2)))\n",
    "    \n",
    "    model.add(Flatten())\n",
    "    model.add(Dense(100, activation='relu'))\n",
    "    model.add(Dense(num_classes, activation='softmax'))\n",
    "    \n",
    "    # Compile model\n",
    "    model.compile(optimizer='adam', loss='categorical_crossentropy',  metrics=['accuracy'])\n",
    "    return model"
   ]
  },
  {
   "cell_type": "code",
   "execution_count": 9,
   "metadata": {
    "tags": []
   },
   "outputs": [
    {
     "name": "stdout",
     "output_type": "stream",
     "text": [
      "Epoch 1/10\n",
      "300/300 - 7s - loss: 0.4683 - accuracy: 0.8653 - val_loss: 0.1289 - val_accuracy: 0.9616 - 7s/epoch - 24ms/step\n",
      "Epoch 2/10\n",
      "300/300 - 7s - loss: 0.1224 - accuracy: 0.9638 - val_loss: 0.0839 - val_accuracy: 0.9753 - 7s/epoch - 24ms/step\n",
      "Epoch 3/10\n",
      "300/300 - 7s - loss: 0.0870 - accuracy: 0.9735 - val_loss: 0.0646 - val_accuracy: 0.9788 - 7s/epoch - 22ms/step\n",
      "Epoch 4/10\n",
      "300/300 - 7s - loss: 0.0700 - accuracy: 0.9788 - val_loss: 0.0587 - val_accuracy: 0.9817 - 7s/epoch - 22ms/step\n",
      "Epoch 5/10\n",
      "300/300 - 7s - loss: 0.0597 - accuracy: 0.9821 - val_loss: 0.0555 - val_accuracy: 0.9828 - 7s/epoch - 23ms/step\n",
      "Epoch 6/10\n",
      "300/300 - 7s - loss: 0.0508 - accuracy: 0.9842 - val_loss: 0.0424 - val_accuracy: 0.9856 - 7s/epoch - 22ms/step\n",
      "Epoch 7/10\n",
      "300/300 - 7s - loss: 0.0457 - accuracy: 0.9863 - val_loss: 0.0474 - val_accuracy: 0.9839 - 7s/epoch - 24ms/step\n",
      "Epoch 8/10\n",
      "300/300 - 7s - loss: 0.0395 - accuracy: 0.9881 - val_loss: 0.0420 - val_accuracy: 0.9864 - 7s/epoch - 24ms/step\n",
      "Epoch 9/10\n",
      "300/300 - 7s - loss: 0.0357 - accuracy: 0.9895 - val_loss: 0.0349 - val_accuracy: 0.9879 - 7s/epoch - 23ms/step\n",
      "Epoch 10/10\n",
      "300/300 - 9s - loss: 0.0327 - accuracy: 0.9898 - val_loss: 0.0366 - val_accuracy: 0.9866 - 9s/epoch - 28ms/step\n",
      "Accuracy: 0.9865999817848206 \n",
      " Error: 1.3400018215179443\n"
     ]
    }
   ],
   "source": [
    "# build the model\n",
    "model = convolutional_model()\n",
    "\n",
    "# fit the model\n",
    "model.fit(X_train, y_train, validation_data=(X_test, y_test), epochs=10, batch_size=200, verbose=2)\n",
    "\n",
    "# evaluate the model\n",
    "scores = model.evaluate(X_test, y_test, verbose=0)\n",
    "print(\"Accuracy: {} \\n Error: {}\".format(scores[1], 100-scores[1]*100))"
   ]
  },
  {
   "cell_type": "code",
   "execution_count": null,
   "metadata": {},
   "outputs": [],
   "source": []
  }
 ],
 "metadata": {
  "kernelspec": {
   "display_name": "Python 3 (ipykernel)",
   "language": "python",
   "name": "python3"
  },
  "language_info": {
   "codemirror_mode": {
    "name": "ipython",
    "version": 3
   },
   "file_extension": ".py",
   "mimetype": "text/x-python",
   "name": "python",
   "nbconvert_exporter": "python",
   "pygments_lexer": "ipython3",
   "version": "3.10.0"
  }
 },
 "nbformat": 4,
 "nbformat_minor": 4
}
